{
 "cells": [
  {
   "attachments": {},
   "cell_type": "markdown",
   "metadata": {},
   "source": [
    "![](https://s3.amazonaws.com/drivendata-public-assets/heart-doc.jpg)"
   ]
  },
  {
   "cell_type": "markdown",
   "metadata": {},
   "source": [
    "\n",
    "## Background challenge\n",
    "\n",
    "Preventing heart disease is important. Good data-driven systems for predicting heart disease can improve the entire research and prevention process, making sure that more people can live healthy lives.\n",
    "\n",
    "Our dataset is from a study of heart disease that has been open to the public for many years. The study collects various measurements on patient health and cardiovascular statistics, and of course makes patient identities anonymous.\n",
    "\n",
    "Data is provided courtesy of the [Cleveland Heart Disease Database](http://archive.ics.uci.edu/ml/datasets/statlog+(heart) via the UCI Machine Learning repository.\n",
    "\n",
    "Aha, D., and Dennis Kibler. \"Instance-based prediction of heart-disease presence with the Cleveland database.\" University of California 3.1 (1988): 3-2.\n",
    "\n",
    "Your goal is to predict the binary class heart_disease_present, which represents whether or not a patient has heart disease."
   ]
  },
  {
   "cell_type": "markdown",
   "metadata": {},
   "source": [
    "## Solution steps\n",
    "\n",
    "* Load data\n",
    "* Data analysis\n",
    "* Some data preprocessing\n",
    "* Choosing the right ML algorithm\n",
    "* Prediction"
   ]
  },
  {
   "cell_type": "markdown",
   "metadata": {},
   "source": [
    "Let's begin! We will solve this challenge using Python code."
   ]
  },
  {
   "cell_type": "code",
   "execution_count": 51,
   "metadata": {},
   "outputs": [],
   "source": [
    "import pandas as pd\n",
    "\n",
    "#Importing data\n",
    "data_x = pd.read_csv(\"C:/Users/ruben/OneDrive/Escritorio/PYTHON/MACHINE LEARNING/PROJECTS/Machine Learning with a Heart/train_values.csv\") #training values\n",
    "\n",
    "data_y = pd.read_csv(\"C:/Users/ruben/OneDrive/Escritorio/PYTHON/MACHINE LEARNING/PROJECTS/Machine Learning with a Heart/train_labels.csv\") #training labels\n",
    "\n",
    "data_test = pd.read_csv(\"C:/Users/ruben/OneDrive/Escritorio/PYTHON/MACHINE LEARNING/PROJECTS/Machine Learning with a Heart/test_values.csv\") #test values\n"
   ]
  },
  {
   "cell_type": "code",
   "execution_count": 52,
   "metadata": {},
   "outputs": [
    {
     "data": {
      "text/plain": [
       "(180, 14)"
      ]
     },
     "execution_count": 52,
     "metadata": {},
     "output_type": "execute_result"
    }
   ],
   "source": [
    "#Data analysis\n",
    "\n",
    "data_x.shape"
   ]
  },
  {
   "cell_type": "markdown",
   "metadata": {},
   "source": [
    "We have 180 patients and 14 features."
   ]
  },
  {
   "cell_type": "code",
   "execution_count": 53,
   "metadata": {},
   "outputs": [
    {
     "data": {
      "text/html": [
       "<div>\n",
       "<style scoped>\n",
       "    .dataframe tbody tr th:only-of-type {\n",
       "        vertical-align: middle;\n",
       "    }\n",
       "\n",
       "    .dataframe tbody tr th {\n",
       "        vertical-align: top;\n",
       "    }\n",
       "\n",
       "    .dataframe thead th {\n",
       "        text-align: right;\n",
       "    }\n",
       "</style>\n",
       "<table border=\"1\" class=\"dataframe\">\n",
       "  <thead>\n",
       "    <tr style=\"text-align: right;\">\n",
       "      <th></th>\n",
       "      <th>patient_id</th>\n",
       "      <th>slope_of_peak_exercise_st_segment</th>\n",
       "      <th>thal</th>\n",
       "      <th>resting_blood_pressure</th>\n",
       "      <th>chest_pain_type</th>\n",
       "      <th>num_major_vessels</th>\n",
       "      <th>fasting_blood_sugar_gt_120_mg_per_dl</th>\n",
       "      <th>resting_ekg_results</th>\n",
       "      <th>serum_cholesterol_mg_per_dl</th>\n",
       "      <th>oldpeak_eq_st_depression</th>\n",
       "      <th>sex</th>\n",
       "      <th>age</th>\n",
       "      <th>max_heart_rate_achieved</th>\n",
       "      <th>exercise_induced_angina</th>\n",
       "    </tr>\n",
       "  </thead>\n",
       "  <tbody>\n",
       "    <tr>\n",
       "      <th>0</th>\n",
       "      <td>0z64un</td>\n",
       "      <td>1</td>\n",
       "      <td>normal</td>\n",
       "      <td>128</td>\n",
       "      <td>2</td>\n",
       "      <td>0</td>\n",
       "      <td>0</td>\n",
       "      <td>2</td>\n",
       "      <td>308</td>\n",
       "      <td>0.0</td>\n",
       "      <td>1</td>\n",
       "      <td>45</td>\n",
       "      <td>170</td>\n",
       "      <td>0</td>\n",
       "    </tr>\n",
       "    <tr>\n",
       "      <th>1</th>\n",
       "      <td>ryoo3j</td>\n",
       "      <td>2</td>\n",
       "      <td>normal</td>\n",
       "      <td>110</td>\n",
       "      <td>3</td>\n",
       "      <td>0</td>\n",
       "      <td>0</td>\n",
       "      <td>0</td>\n",
       "      <td>214</td>\n",
       "      <td>1.6</td>\n",
       "      <td>0</td>\n",
       "      <td>54</td>\n",
       "      <td>158</td>\n",
       "      <td>0</td>\n",
       "    </tr>\n",
       "    <tr>\n",
       "      <th>2</th>\n",
       "      <td>yt1s1x</td>\n",
       "      <td>1</td>\n",
       "      <td>normal</td>\n",
       "      <td>125</td>\n",
       "      <td>4</td>\n",
       "      <td>3</td>\n",
       "      <td>0</td>\n",
       "      <td>2</td>\n",
       "      <td>304</td>\n",
       "      <td>0.0</td>\n",
       "      <td>1</td>\n",
       "      <td>77</td>\n",
       "      <td>162</td>\n",
       "      <td>1</td>\n",
       "    </tr>\n",
       "    <tr>\n",
       "      <th>3</th>\n",
       "      <td>l2xjde</td>\n",
       "      <td>1</td>\n",
       "      <td>reversible_defect</td>\n",
       "      <td>152</td>\n",
       "      <td>4</td>\n",
       "      <td>0</td>\n",
       "      <td>0</td>\n",
       "      <td>0</td>\n",
       "      <td>223</td>\n",
       "      <td>0.0</td>\n",
       "      <td>1</td>\n",
       "      <td>40</td>\n",
       "      <td>181</td>\n",
       "      <td>0</td>\n",
       "    </tr>\n",
       "    <tr>\n",
       "      <th>4</th>\n",
       "      <td>oyt4ek</td>\n",
       "      <td>3</td>\n",
       "      <td>reversible_defect</td>\n",
       "      <td>178</td>\n",
       "      <td>1</td>\n",
       "      <td>0</td>\n",
       "      <td>0</td>\n",
       "      <td>2</td>\n",
       "      <td>270</td>\n",
       "      <td>4.2</td>\n",
       "      <td>1</td>\n",
       "      <td>59</td>\n",
       "      <td>145</td>\n",
       "      <td>0</td>\n",
       "    </tr>\n",
       "  </tbody>\n",
       "</table>\n",
       "</div>"
      ],
      "text/plain": [
       "  patient_id  slope_of_peak_exercise_st_segment               thal  \\\n",
       "0     0z64un                                  1             normal   \n",
       "1     ryoo3j                                  2             normal   \n",
       "2     yt1s1x                                  1             normal   \n",
       "3     l2xjde                                  1  reversible_defect   \n",
       "4     oyt4ek                                  3  reversible_defect   \n",
       "\n",
       "   resting_blood_pressure  chest_pain_type  num_major_vessels  \\\n",
       "0                     128                2                  0   \n",
       "1                     110                3                  0   \n",
       "2                     125                4                  3   \n",
       "3                     152                4                  0   \n",
       "4                     178                1                  0   \n",
       "\n",
       "   fasting_blood_sugar_gt_120_mg_per_dl  resting_ekg_results  \\\n",
       "0                                     0                    2   \n",
       "1                                     0                    0   \n",
       "2                                     0                    2   \n",
       "3                                     0                    0   \n",
       "4                                     0                    2   \n",
       "\n",
       "   serum_cholesterol_mg_per_dl  oldpeak_eq_st_depression  sex  age  \\\n",
       "0                          308                       0.0    1   45   \n",
       "1                          214                       1.6    0   54   \n",
       "2                          304                       0.0    1   77   \n",
       "3                          223                       0.0    1   40   \n",
       "4                          270                       4.2    1   59   \n",
       "\n",
       "   max_heart_rate_achieved  exercise_induced_angina  \n",
       "0                      170                        0  \n",
       "1                      158                        0  \n",
       "2                      162                        1  \n",
       "3                      181                        0  \n",
       "4                      145                        0  "
      ]
     },
     "execution_count": 53,
     "metadata": {},
     "output_type": "execute_result"
    }
   ],
   "source": [
    "data_x.head()"
   ]
  },
  {
   "cell_type": "markdown",
   "metadata": {},
   "source": [
    "Okay. Here we see some useful information. \n",
    "\n",
    "Our first feature is *patient_id*. This feature doesn't provide information to construct our prediction model, so we can substract it. \n",
    "\n",
    "*thal* is a string type variable. We should convert it to number."
   ]
  },
  {
   "cell_type": "code",
   "execution_count": 54,
   "metadata": {},
   "outputs": [
    {
     "data": {
      "text/html": [
       "<div>\n",
       "<style scoped>\n",
       "    .dataframe tbody tr th:only-of-type {\n",
       "        vertical-align: middle;\n",
       "    }\n",
       "\n",
       "    .dataframe tbody tr th {\n",
       "        vertical-align: top;\n",
       "    }\n",
       "\n",
       "    .dataframe thead th {\n",
       "        text-align: right;\n",
       "    }\n",
       "</style>\n",
       "<table border=\"1\" class=\"dataframe\">\n",
       "  <thead>\n",
       "    <tr style=\"text-align: right;\">\n",
       "      <th></th>\n",
       "      <th>patient_id</th>\n",
       "      <th>thal</th>\n",
       "    </tr>\n",
       "  </thead>\n",
       "  <tbody>\n",
       "    <tr>\n",
       "      <th>count</th>\n",
       "      <td>180</td>\n",
       "      <td>180</td>\n",
       "    </tr>\n",
       "    <tr>\n",
       "      <th>unique</th>\n",
       "      <td>180</td>\n",
       "      <td>3</td>\n",
       "    </tr>\n",
       "    <tr>\n",
       "      <th>top</th>\n",
       "      <td>k7ef7h</td>\n",
       "      <td>normal</td>\n",
       "    </tr>\n",
       "    <tr>\n",
       "      <th>freq</th>\n",
       "      <td>1</td>\n",
       "      <td>98</td>\n",
       "    </tr>\n",
       "  </tbody>\n",
       "</table>\n",
       "</div>"
      ],
      "text/plain": [
       "       patient_id    thal\n",
       "count         180     180\n",
       "unique        180       3\n",
       "top        k7ef7h  normal\n",
       "freq            1      98"
      ]
     },
     "execution_count": 54,
     "metadata": {},
     "output_type": "execute_result"
    }
   ],
   "source": [
    "data_x.describe(include=[object])"
   ]
  },
  {
   "cell_type": "markdown",
   "metadata": {},
   "source": [
    "*thal* includes only 3 different features, so we can easily convert it to -1, 0 and 1."
   ]
  },
  {
   "cell_type": "code",
   "execution_count": 55,
   "metadata": {},
   "outputs": [],
   "source": [
    "# Data pre-processing\n",
    "\n",
    "#We need to restructure data and convert \"thal\" variable to number\n",
    "X = data_x.values #convert dataframe to numpy array\n",
    "X = X[:,1:] #We don't need \"patient id\", so we extract it\n",
    "\n",
    "y = data_y.values\n",
    "y = y[:,1]\n",
    "\n",
    "test = data_test.values\n",
    "test = test[:,1:]\n",
    "\n",
    "\n",
    "\n",
    "#Converting \"thal\" variable to number\n",
    "X[X == \"normal\"] = 0 #substituting normal by 0\n",
    "X[X == \"reversible_defect\"] = 1 #reversible_defect by 1\n",
    "X[X == \"fixed_defect\"] = -1 #fixed_defect by -1\n",
    "\n",
    "test[test == \"normal\"] = 0 #substituting normal by 0\n",
    "test[test == \"reversible_defect\"] = 1 #reversible_defect by 1\n",
    "test[test == \"fixed_defect\"] = -1 #fixed_defect by -1\n",
    "\n",
    "\n",
    "#sklearn doesn't recognize the class type \"object\", so we need to convert it to int or float(depending if we have decimal values)\n",
    "X=X.astype('float') \n",
    "y=y.astype('int') \n",
    "test=test.astype('float')"
   ]
  },
  {
   "cell_type": "markdown",
   "metadata": {},
   "source": [
    "Now we have the data ready. It is time to decide what algorithm we want to use to make predictions.\n",
    "\n",
    "We have labeled data, we want to predict a category (disease or not) and we have less than 100k samples: let's try SVM classification.\n",
    "\n",
    "We will use cross-validation to check the accuracy, if accuracy is not high enough we will try other algorithms."
   ]
  },
  {
   "cell_type": "code",
   "execution_count": 56,
   "metadata": {},
   "outputs": [
    {
     "name": "stdout",
     "output_type": "stream",
     "text": [
      "Accuracy linear SVM: 0.79 (+/- 0.16)\n"
     ]
    }
   ],
   "source": [
    "#SVM (linear)\n",
    "\n",
    "#Creating the model\n",
    "from sklearn import svm\n",
    "clf = svm.SVC(kernel = \"linear\", C=1)\n",
    "\n",
    "#Computing cross-validation scores\n",
    "from sklearn.model_selection import cross_val_score\n",
    "scores = cross_val_score(clf, X, y, cv = 5) #5 times\n",
    "\n",
    "#Let's print the mean score and the 95% confidence interval\n",
    "print(\"Accuracy linear SVM: %0.2f (+/- %0.2f)\" % (scores.mean(), scores.std() *2))"
   ]
  },
  {
   "cell_type": "markdown",
   "metadata": {},
   "source": [
    "0.79 accuracy. It's not bad but I think we could obtain better perfomance with some other algorithm. Let's try a few more!"
   ]
  },
  {
   "cell_type": "code",
   "execution_count": 57,
   "metadata": {},
   "outputs": [
    {
     "name": "stdout",
     "output_type": "stream",
     "text": [
      "Accuracy SVM with rbf kernel: 0.55 (+/- 0.02)\n"
     ]
    }
   ],
   "source": [
    "#SVM with kernel\n",
    "clf = svm.SVC(kernel = \"rbf\", C=1, gamma = \"auto\")\n",
    "\n",
    "#cross-validation scores\n",
    "scores = cross_val_score(clf, X, y, cv = 5) #5 times\n",
    "\n",
    "#Printing mean score and 95% ci\n",
    "print(\"Accuracy SVM with rbf kernel: %0.2f (+/- %0.2f)\" % (scores.mean(), scores.std() *2))\n"
   ]
  },
  {
   "cell_type": "markdown",
   "metadata": {},
   "source": [
    "0.55. No, thank you."
   ]
  },
  {
   "cell_type": "code",
   "execution_count": 58,
   "metadata": {},
   "outputs": [
    {
     "name": "stdout",
     "output_type": "stream",
     "text": [
      "Accuracy kNN classifier: 0.63 (+/- 0.15)\n"
     ]
    }
   ],
   "source": [
    "#knn classifier\n",
    "from sklearn.neighbors import KNeighborsClassifier\n",
    "\n",
    "#number of neighbors\n",
    "n_neighbors=15\n",
    "\n",
    "#classifier\n",
    "clf = KNeighborsClassifier(n_neighbors)\n",
    "\n",
    "\n",
    "#cross validation scores\n",
    "scores = cross_val_score(clf, X, y, cv=5)\n",
    "\n",
    "#Printing mean score and 95% ci\n",
    "print(\"Accuracy kNN classifier: %0.2f (+/- %0.2f)\" % (scores.mean(), scores.std() *2))"
   ]
  },
  {
   "cell_type": "markdown",
   "metadata": {},
   "source": [
    "kNN gives us 0.63. I tried some other number of neighbours and it's not better. Let's try one last algorithm."
   ]
  },
  {
   "cell_type": "code",
   "execution_count": 59,
   "metadata": {},
   "outputs": [
    {
     "name": "stdout",
     "output_type": "stream",
     "text": [
      "Accuracy Gaussian Naive Bayes: 0.82 (+/- 0.10)\n"
     ]
    }
   ],
   "source": [
    "#Naive Bayes\n",
    "from sklearn.naive_bayes import GaussianNB\n",
    "\n",
    "#classifier\n",
    "clf = GaussianNB() #Gaussian Naive Bayes\n",
    "\n",
    "#cross validation scores\n",
    "scores = cross_val_score(clf, X, y, cv=5)\n",
    "\n",
    "#Printing mean score and 95% ci\n",
    "print(\"Accuracy Gaussian Naive Bayes: %0.2f (+/- %0.2f)\" % (scores.mean(), scores.std() *2))\n"
   ]
  },
  {
   "cell_type": "markdown",
   "metadata": {},
   "source": [
    "Okay, NB gives us the best performance. We will use this algorithm to make the predictions."
   ]
  },
  {
   "cell_type": "code",
   "execution_count": 60,
   "metadata": {},
   "outputs": [
    {
     "name": "stdout",
     "output_type": "stream",
     "text": [
      "[[9.41852313e-01 5.81476866e-02]\n",
      " [9.99559278e-01 4.40721955e-04]\n",
      " [5.41562512e-04 9.99458437e-01]\n",
      " [9.98758791e-01 1.24120909e-03]\n",
      " [4.96825351e-05 9.99950317e-01]\n",
      " [9.99207046e-01 7.92954453e-04]\n",
      " [8.42052011e-01 1.57947989e-01]\n",
      " [1.35996029e-04 9.99864004e-01]\n",
      " [9.60033776e-01 3.99662241e-02]\n",
      " [9.81662162e-01 1.83378384e-02]\n",
      " [6.54908581e-02 9.34509142e-01]\n",
      " [5.50935453e-01 4.49064547e-01]\n",
      " [5.01251981e-01 4.98748019e-01]\n",
      " [1.23224961e-05 9.99987678e-01]\n",
      " [9.15946702e-01 8.40532984e-02]\n",
      " [9.99929094e-01 7.09055296e-05]\n",
      " [9.99919203e-01 8.07971561e-05]\n",
      " [9.87581619e-01 1.24183809e-02]\n",
      " [4.35478756e-04 9.99564521e-01]\n",
      " [9.94323058e-01 5.67694238e-03]\n",
      " [1.07324771e-05 9.99989268e-01]\n",
      " [9.78713845e-01 2.12861547e-02]\n",
      " [9.92959194e-01 7.04080615e-03]\n",
      " [9.99952981e-01 4.70190940e-05]\n",
      " [9.06852351e-01 9.31476494e-02]\n",
      " [1.09577829e-03 9.98904222e-01]\n",
      " [6.08007202e-01 3.91992798e-01]\n",
      " [9.71561523e-01 2.84384765e-02]\n",
      " [6.24222050e-02 9.37577795e-01]\n",
      " [9.99429605e-01 5.70394859e-04]\n",
      " [3.70773718e-03 9.96292263e-01]\n",
      " [9.74123317e-01 2.58766826e-02]\n",
      " [4.66208506e-01 5.33791494e-01]\n",
      " [4.32338708e-02 9.56766129e-01]\n",
      " [9.95629720e-01 4.37027967e-03]\n",
      " [9.98672181e-01 1.32781886e-03]\n",
      " [6.20822661e-01 3.79177339e-01]\n",
      " [2.92555717e-01 7.07444283e-01]\n",
      " [9.88067639e-01 1.19323609e-02]\n",
      " [9.98542346e-01 1.45765365e-03]\n",
      " [6.40678235e-03 9.93593218e-01]\n",
      " [9.99276580e-01 7.23420160e-04]\n",
      " [3.51536394e-03 9.96484636e-01]\n",
      " [9.99894194e-01 1.05806006e-04]\n",
      " [1.92250861e-03 9.98077491e-01]\n",
      " [9.91333592e-01 8.66640769e-03]\n",
      " [9.96905231e-01 3.09476896e-03]\n",
      " [9.66261473e-01 3.37385269e-02]\n",
      " [9.22490479e-01 7.75095214e-02]\n",
      " [1.04309577e-03 9.98956904e-01]\n",
      " [3.96015159e-03 9.96039848e-01]\n",
      " [9.98833382e-01 1.16661811e-03]\n",
      " [1.68721129e-07 9.99999831e-01]\n",
      " [9.58882874e-01 4.11171263e-02]\n",
      " [8.96905989e-01 1.03094011e-01]\n",
      " [9.97815285e-01 2.18471456e-03]\n",
      " [3.90451767e-05 9.99960955e-01]\n",
      " [9.95613635e-01 4.38636514e-03]\n",
      " [5.90949675e-01 4.09050325e-01]\n",
      " [5.11738739e-02 9.48826126e-01]\n",
      " [9.98501136e-01 1.49886414e-03]\n",
      " [1.00963921e-03 9.98990361e-01]\n",
      " [9.82348309e-01 1.76516914e-02]\n",
      " [7.05212760e-06 9.99992948e-01]\n",
      " [9.88731236e-01 1.12687638e-02]\n",
      " [9.50101381e-03 9.90498986e-01]\n",
      " [1.76663344e-02 9.82333666e-01]\n",
      " [6.09116526e-01 3.90883474e-01]\n",
      " [8.50856996e-02 9.14914300e-01]\n",
      " [7.44102668e-03 9.92558973e-01]\n",
      " [9.69834191e-01 3.01658091e-02]\n",
      " [6.48656164e-06 9.99993513e-01]\n",
      " [7.74137566e-05 9.99922586e-01]\n",
      " [8.21352923e-06 9.99991786e-01]\n",
      " [5.71490162e-05 9.99942851e-01]\n",
      " [7.22584624e-05 9.99927742e-01]\n",
      " [5.90853195e-03 9.94091468e-01]\n",
      " [5.11483719e-04 9.99488516e-01]\n",
      " [9.48484435e-01 5.15155654e-02]\n",
      " [3.85418053e-02 9.61458195e-01]\n",
      " [4.65222603e-01 5.34777397e-01]\n",
      " [9.99907394e-01 9.26060127e-05]\n",
      " [2.10250343e-02 9.78974966e-01]\n",
      " [1.50297325e-01 8.49702675e-01]\n",
      " [9.90628951e-01 9.37104927e-03]\n",
      " [9.99666718e-01 3.33281834e-04]\n",
      " [3.89033849e-02 9.61096615e-01]\n",
      " [9.87123769e-01 1.28762314e-02]\n",
      " [7.46354771e-01 2.53645229e-01]\n",
      " [9.61581356e-01 3.84186440e-02]]\n"
     ]
    }
   ],
   "source": [
    "#Let's make our predictions\n",
    "\n",
    "clf = GaussianNB() #Gaussian Naive Bayes\n",
    "\n",
    "clf.fit(X,y)\n",
    "\n",
    "predictions = clf.predict_proba(test) #predicting the probability\n",
    "\n",
    "print(predictions)"
   ]
  },
  {
   "cell_type": "markdown",
   "metadata": {},
   "source": [
    "Here, we obtained the probability of not having heart disease (column 1) and probability of having heart disease (column 2).\n",
    "\n",
    "As a final step, we will prepare the results to meet the submission requirements.\n"
   ]
  },
  {
   "cell_type": "code",
   "execution_count": 61,
   "metadata": {},
   "outputs": [],
   "source": [
    "import numpy as np\n",
    "\n",
    "results = predictions[:,1] #we only need the second column\n",
    "results = np.round(results, 3) #round to get 3 decimals\n",
    "id_results = data_test.values[:,0] # we need patient_id\n"
   ]
  },
  {
   "cell_type": "code",
   "execution_count": 62,
   "metadata": {},
   "outputs": [
    {
     "data": {
      "text/plain": [
       "array([['olalu7', 0.058],\n",
       "       ['z9n6mx', 0.0],\n",
       "       ['5k4413', 0.999],\n",
       "       ['mrg7q5', 0.001],\n",
       "       ['uki4do', 1.0],\n",
       "       ['kev1sk', 0.001],\n",
       "       ['9n6let', 0.158],\n",
       "       ['jxmtyg', 1.0],\n",
       "       ['51s2ff', 0.04],\n",
       "       ['wi9mcs', 0.018],\n",
       "       ['741h4l', 0.935],\n",
       "       ['1ef64a', 0.449],\n",
       "       ['wa2ix6', 0.499],\n",
       "       ['8167zl', 1.0],\n",
       "       ['n6nldr', 0.084],\n",
       "       ['ph85fp', 0.0],\n",
       "       ['jfan5p', 0.0],\n",
       "       ['7c4iz1', 0.012],\n",
       "       ['ukigml', 1.0],\n",
       "       ['flwvnq', 0.006],\n",
       "       ['5i4fw2', 1.0],\n",
       "       ['du1pqf', 0.021],\n",
       "       ['vs68qz', 0.007],\n",
       "       ['pfyez0', 0.0],\n",
       "       ['azvkw2', 0.093],\n",
       "       ['cird1i', 0.999],\n",
       "       ['3bg32t', 0.392],\n",
       "       ['xzd050', 0.028],\n",
       "       ['eyi8et', 0.938],\n",
       "       ['ce4x2h', 0.001],\n",
       "       ['sm91nr', 0.996],\n",
       "       ['2il8hh', 0.026],\n",
       "       ['yq9cqg', 0.534],\n",
       "       ['520v5j', 0.957],\n",
       "       ['ammgu2', 0.004],\n",
       "       ['jix8hj', 0.001],\n",
       "       ['lj5zrq', 0.379],\n",
       "       ['16ceba', 0.707],\n",
       "       ['93w44s', 0.012],\n",
       "       ['bso17z', 0.001],\n",
       "       ['j2w2dc', 0.994],\n",
       "       ['74vwwl', 0.001],\n",
       "       ['0z3fob', 0.996],\n",
       "       ['mr7zyz', 0.0],\n",
       "       ['pp5n63', 0.998],\n",
       "       ['j0hix1', 0.009],\n",
       "       ['rn209i', 0.003],\n",
       "       ['nfit8e', 0.034],\n",
       "       ['nb73sy', 0.078],\n",
       "       ['i79t3w', 0.999],\n",
       "       ['9nv2d9', 0.996],\n",
       "       ['2xbeja', 0.001],\n",
       "       ['lwg3wq', 1.0],\n",
       "       ['lrvqwb', 0.041],\n",
       "       ['c6mepo', 0.103],\n",
       "       ['6ued22', 0.002],\n",
       "       ['112e9h', 1.0],\n",
       "       ['8jc7h2', 0.004],\n",
       "       ['unykmj', 0.409],\n",
       "       ['4yeztb', 0.949],\n",
       "       ['tgpy9u', 0.001],\n",
       "       ['pf5wp6', 0.999],\n",
       "       ['cj8vj2', 0.018],\n",
       "       ['9w6d9j', 1.0],\n",
       "       ['3l89wd', 0.011],\n",
       "       ['83a6x1', 0.99],\n",
       "       ['oua0gr', 0.982],\n",
       "       ['j0hl96', 0.391],\n",
       "       ['dlkzyg', 0.915],\n",
       "       ['r0w4a8', 0.993],\n",
       "       ['46dlca', 0.03],\n",
       "       ['9fkefu', 1.0],\n",
       "       ['6uk6kl', 1.0],\n",
       "       ['c7olxr', 1.0],\n",
       "       ['iiyx0q', 1.0],\n",
       "       ['25vetx', 1.0],\n",
       "       ['073vc5', 0.994],\n",
       "       ['18abn0', 0.999],\n",
       "       ['v5fsfs', 0.052],\n",
       "       ['2ekoo7', 0.961],\n",
       "       ['5bbknr', 0.535],\n",
       "       ['hr6pjx', 0.0],\n",
       "       ['r4hsar', 0.979],\n",
       "       ['4cezdf', 0.85],\n",
       "       ['palhcc', 0.009],\n",
       "       ['bwoyg6', 0.0],\n",
       "       ['j8i7ve', 0.961],\n",
       "       ['t2zn1n', 0.013],\n",
       "       ['oxf8kj', 0.254],\n",
       "       ['aeiv0y', 0.038]], dtype=object)"
      ]
     },
     "execution_count": 62,
     "metadata": {},
     "output_type": "execute_result"
    }
   ],
   "source": [
    "submitted_results = np.column_stack((id_results, results))\n",
    "submitted_results"
   ]
  },
  {
   "cell_type": "markdown",
   "metadata": {},
   "source": [
    "Finally we have to create the .csv file."
   ]
  },
  {
   "cell_type": "code",
   "execution_count": 63,
   "metadata": {},
   "outputs": [],
   "source": [
    "#creating the csv file with pandas\n",
    "df = pd.DataFrame(submitted_results)\n",
    "df.to_csv(\"C:/Users/ruben/OneDrive/Escritorio/PYTHON/MACHINE LEARNING/PROJECTS/Machine Learning with a Heart/results_heart_disease.csv\", index = None, header = ['patient_id', 'heart_disease_present'])"
   ]
  },
  {
   "cell_type": "markdown",
   "metadata": {},
   "source": [
    "And we are done!"
   ]
  }
 ],
 "metadata": {
  "kernelspec": {
   "display_name": "Python 3",
   "language": "python",
   "name": "python3"
  },
  "language_info": {
   "codemirror_mode": {
    "name": "ipython",
    "version": 3
   },
   "file_extension": ".py",
   "mimetype": "text/x-python",
   "name": "python",
   "nbconvert_exporter": "python",
   "pygments_lexer": "ipython3",
   "version": "3.6.5"
  }
 },
 "nbformat": 4,
 "nbformat_minor": 2
}
